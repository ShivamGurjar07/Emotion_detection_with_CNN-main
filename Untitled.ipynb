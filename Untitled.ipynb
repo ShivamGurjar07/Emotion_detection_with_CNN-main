{
 "cells": [
  {
   "cell_type": "code",
   "execution_count": 1,
   "id": "9aab95cf",
   "metadata": {},
   "outputs": [],
   "source": [
    "import cv2\n",
    "from keras.models import Sequential\n",
    "from keras.layers import Conv2D, MaxPooling2D, Dense, Dropout, Flatten\n",
    "from keras.optimizers import Adam\n",
    "from keras.preprocessing.image import ImageDataGenerator\n"
   ]
  },
  {
   "cell_type": "code",
   "execution_count": 2,
   "id": "277e9ec7",
   "metadata": {},
   "outputs": [],
   "source": [
    "train_data_gen = ImageDataGenerator(rescale=1./255)\n",
    "validation_data_gen = ImageDataGenerator(rescale=1./255)\n"
   ]
  },
  {
   "cell_type": "code",
   "execution_count": 3,
   "id": "e318b76a",
   "metadata": {},
   "outputs": [
    {
     "name": "stdout",
     "output_type": "stream",
     "text": [
      "Found 28709 images belonging to 7 classes.\n"
     ]
    }
   ],
   "source": [
    "\n",
    "# Preprocess all test images\n",
    "train_generator = train_data_gen.flow_from_directory(\n",
    "        'data/train',\n",
    "        target_size=(48, 48),\n",
    "        batch_size=64,\n",
    "        color_mode=\"grayscale\",\n",
    "        class_mode='categorical')\n"
   ]
  },
  {
   "cell_type": "code",
   "execution_count": 4,
   "id": "dd4f8a24",
   "metadata": {},
   "outputs": [
    {
     "name": "stdout",
     "output_type": "stream",
     "text": [
      "Found 7178 images belonging to 7 classes.\n"
     ]
    }
   ],
   "source": [
    "\n",
    "# Preprocess all train images\n",
    "validation_generator = validation_data_gen.flow_from_directory(\n",
    "        'data/test',\n",
    "        target_size=(48, 48),\n",
    "        batch_size=64,\n",
    "        color_mode=\"grayscale\",\n",
    "        class_mode='categorical')\n"
   ]
  },
  {
   "cell_type": "code",
   "execution_count": 5,
   "id": "f95f9a07",
   "metadata": {},
   "outputs": [
    {
     "name": "stderr",
     "output_type": "stream",
     "text": [
      "C:\\Users\\DIPESH\\anaconda3\\lib\\site-packages\\keras\\optimizers\\optimizer_v2\\adam.py:110: UserWarning: The `lr` argument is deprecated, use `learning_rate` instead.\n",
      "  super(Adam, self).__init__(name, **kwargs)\n"
     ]
    }
   ],
   "source": [
    "\n",
    "# create model structure\n",
    "emotion_model = Sequential()\n",
    "\n",
    "emotion_model.add(Conv2D(32, kernel_size=(3, 3), activation='relu', input_shape=(48, 48, 1)))\n",
    "emotion_model.add(Conv2D(64, kernel_size=(3, 3), activation='relu'))\n",
    "emotion_model.add(MaxPooling2D(pool_size=(2, 2)))\n",
    "emotion_model.add(Dropout(0.25))\n",
    "\n",
    "emotion_model.add(Conv2D(128, kernel_size=(3, 3), activation='relu'))\n",
    "emotion_model.add(MaxPooling2D(pool_size=(2, 2)))\n",
    "emotion_model.add(Conv2D(128, kernel_size=(3, 3), activation='relu'))\n",
    "emotion_model.add(MaxPooling2D(pool_size=(2, 2)))\n",
    "emotion_model.add(Dropout(0.25))\n",
    "\n",
    "emotion_model.add(Flatten())\n",
    "emotion_model.add(Dense(1024, activation='relu'))\n",
    "emotion_model.add(Dropout(0.5))\n",
    "emotion_model.add(Dense(7, activation='softmax'))\n",
    "\n",
    "cv2.ocl.setUseOpenCL(False)\n",
    "\n",
    "emotion_model.compile(loss='categorical_crossentropy', optimizer=Adam(lr=0.0001, decay=1e-6), metrics=['accuracy'])\n"
   ]
  },
  {
   "cell_type": "code",
   "execution_count": null,
   "id": "c2bcde61",
   "metadata": {},
   "outputs": [
    {
     "name": "stderr",
     "output_type": "stream",
     "text": [
      "<ipython-input-6-ae419f95bfec>:2: UserWarning: `Model.fit_generator` is deprecated and will be removed in a future version. Please use `Model.fit`, which supports generators.\n",
      "  emotion_model_info = emotion_model.fit_generator(\n"
     ]
    },
    {
     "name": "stdout",
     "output_type": "stream",
     "text": [
      "Epoch 1/50\n",
      "448/448 [==============================] - 436s 970ms/step - loss: 1.8058 - accuracy: 0.2535 - val_loss: 1.7380 - val_accuracy: 0.3362\n",
      "Epoch 2/50\n",
      "448/448 [==============================] - 203s 453ms/step - loss: 1.6538 - accuracy: 0.3535 - val_loss: 1.5749 - val_accuracy: 0.3993\n",
      "Epoch 3/50\n",
      "448/448 [==============================] - 206s 461ms/step - loss: 1.5601 - accuracy: 0.3986 - val_loss: 1.4875 - val_accuracy: 0.4314\n",
      "Epoch 4/50\n",
      "448/448 [==============================] - 207s 462ms/step - loss: 1.4806 - accuracy: 0.4343 - val_loss: 1.4204 - val_accuracy: 0.4602\n",
      "Epoch 5/50\n",
      "448/448 [==============================] - 227s 506ms/step - loss: 1.4167 - accuracy: 0.4590 - val_loss: 1.3724 - val_accuracy: 0.4777\n",
      "Epoch 6/50\n",
      "448/448 [==============================] - 345s 770ms/step - loss: 1.3657 - accuracy: 0.4789 - val_loss: 1.3244 - val_accuracy: 0.4962\n",
      "Epoch 7/50\n",
      "448/448 [==============================] - 348s 776ms/step - loss: 1.3184 - accuracy: 0.4972 - val_loss: 1.2908 - val_accuracy: 0.5109\n",
      "Epoch 8/50\n",
      "448/448 [==============================] - 244s 544ms/step - loss: 1.2764 - accuracy: 0.5150 - val_loss: 1.2640 - val_accuracy: 0.5209\n",
      "Epoch 9/50\n",
      "448/448 [==============================] - 177s 395ms/step - loss: 1.2396 - accuracy: 0.5326 - val_loss: 1.2350 - val_accuracy: 0.5276\n",
      "Epoch 10/50\n",
      "448/448 [==============================] - 223s 498ms/step - loss: 1.2090 - accuracy: 0.5448 - val_loss: 1.2183 - val_accuracy: 0.5318\n",
      "Epoch 11/50\n",
      "448/448 [==============================] - 207s 462ms/step - loss: 1.1778 - accuracy: 0.5556 - val_loss: 1.1952 - val_accuracy: 0.5466\n",
      "Epoch 12/50\n",
      "448/448 [==============================] - 198s 441ms/step - loss: 1.1504 - accuracy: 0.5719 - val_loss: 1.1713 - val_accuracy: 0.5504\n",
      "Epoch 13/50\n",
      "448/448 [==============================] - 279s 622ms/step - loss: 1.1217 - accuracy: 0.5775 - val_loss: 1.1606 - val_accuracy: 0.5579\n",
      "Epoch 14/50\n",
      "448/448 [==============================] - 337s 751ms/step - loss: 1.0959 - accuracy: 0.5902 - val_loss: 1.1541 - val_accuracy: 0.5597\n",
      "Epoch 15/50\n",
      "448/448 [==============================] - 337s 753ms/step - loss: 1.0748 - accuracy: 0.5973 - val_loss: 1.1380 - val_accuracy: 0.5703\n",
      "Epoch 16/50\n",
      "448/448 [==============================] - 240s 536ms/step - loss: 1.0476 - accuracy: 0.6089 - val_loss: 1.1259 - val_accuracy: 0.5682\n",
      "Epoch 17/50\n",
      "215/448 [=============>................] - ETA: 1:57 - loss: 1.0085 - accuracy: 0.6257"
     ]
    }
   ],
   "source": [
    "\n",
    "# Train the neural network/model\n",
    "emotion_model_info = emotion_model.fit_generator(\n",
    "        train_generator,\n",
    "        steps_per_epoch=28709 // 64,\n",
    "        epochs=50,\n",
    "        validation_data=validation_generator,\n",
    "        validation_steps=7178 // 64)\n"
   ]
  },
  {
   "cell_type": "code",
   "execution_count": null,
   "id": "10a9ec07",
   "metadata": {},
   "outputs": [],
   "source": [
    "\n",
    "# save model structure in jason file\n",
    "model_json = emotion_model.to_json()\n",
    "with open(\"emotion_model.json\", \"w\") as json_file:\n",
    "    json_file.write(model_json)\n"
   ]
  },
  {
   "cell_type": "code",
   "execution_count": null,
   "id": "56e0d7b0",
   "metadata": {},
   "outputs": [],
   "source": []
  }
 ],
 "metadata": {
  "kernelspec": {
   "display_name": "Python 3",
   "language": "python",
   "name": "python3"
  },
  "language_info": {
   "codemirror_mode": {
    "name": "ipython",
    "version": 3
   },
   "file_extension": ".py",
   "mimetype": "text/x-python",
   "name": "python",
   "nbconvert_exporter": "python",
   "pygments_lexer": "ipython3",
   "version": "3.8.8"
  }
 },
 "nbformat": 4,
 "nbformat_minor": 5
}
