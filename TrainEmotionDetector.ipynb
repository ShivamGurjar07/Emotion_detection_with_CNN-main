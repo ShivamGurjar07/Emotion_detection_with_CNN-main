{
 "cells": [
  {
   "cell_type": "code",
   "execution_count": 19,
   "id": "1b08627f",
   "metadata": {},
   "outputs": [],
   "source": [
    "\n",
    "# import required packages\n",
    "import cv2\n",
    "from keras.models import Sequential\n",
    "from keras.layers import Conv2D, MaxPooling2D, Dense, Dropout, Flatten\n",
    "from keras.optimizers import Adam\n",
    "from keras.preprocessing.image import ImageDataGenerator\n",
    "\n"
   ]
  },
  {
   "cell_type": "code",
   "execution_count": 20,
   "id": "47867ea2",
   "metadata": {},
   "outputs": [],
   "source": [
    "\n",
    "# Initialize image data generator with rescaling\n",
    "train_data_gen = ImageDataGenerator(rescale=1./255)\n",
    "validation_data_gen = ImageDataGenerator(rescale=1./255)\n"
   ]
  },
  {
   "cell_type": "code",
   "execution_count": 21,
   "id": "95bc7507",
   "metadata": {},
   "outputs": [
    {
     "name": "stdout",
     "output_type": "stream",
     "text": [
      "Found 28709 images belonging to 7 classes.\n"
     ]
    }
   ],
   "source": [
    "\n",
    "# Preprocess all test images\n",
    "train_generator = train_data_gen.flow_from_directory(\n",
    "        'data/train',\n",
    "        target_size=(48, 48),\n",
    "        batch_size=64,\n",
    "        color_mode=\"grayscale\",\n",
    "        class_mode='categorical')\n"
   ]
  },
  {
   "cell_type": "code",
   "execution_count": 22,
   "id": "b0f5f134",
   "metadata": {},
   "outputs": [
    {
     "name": "stdout",
     "output_type": "stream",
     "text": [
      "Found 7178 images belonging to 7 classes.\n"
     ]
    }
   ],
   "source": [
    "\n",
    "# Preprocess all train images\n",
    "validation_generator = validation_data_gen.flow_from_directory(\n",
    "        'data/test',\n",
    "        target_size=(48, 48),\n",
    "        batch_size=64,\n",
    "        color_mode=\"grayscale\",\n",
    "        class_mode='categorical')\n"
   ]
  },
  {
   "cell_type": "code",
   "execution_count": 37,
   "id": "fd28c0bd",
   "metadata": {
    "scrolled": true
   },
   "outputs": [],
   "source": [
    "import tensorflow as tf\n",
    "# create model structure\n",
    "emotion_model = Sequential()\n",
    "\n",
    "emotion_model.add(Conv2D(32, kernel_size=(3, 3), activation='relu', input_shape=(48, 48, 1)))\n",
    "emotion_model.add(Conv2D(64, kernel_size=(3, 3), activation='relu'))\n",
    "emotion_model.add(MaxPooling2D(pool_size=(2, 2)))\n",
    "emotion_model.add(Dropout(0.25))\n",
    "\n",
    "emotion_model.add(Conv2D(128, kernel_size=(3, 3), activation='relu'))\n",
    "emotion_model.add(MaxPooling2D(pool_size=(2, 2)))\n",
    "emotion_model.add(Conv2D(128, kernel_size=(3, 3), activation='relu'))\n",
    "emotion_model.add(MaxPooling2D(pool_size=(2, 2)))\n",
    "emotion_model.add(Dropout(0.25))\n",
    "\n",
    "emotion_model.add(Flatten())\n",
    "emotion_model.add(Dense(1024, activation='relu'))\n",
    "emotion_model.add(Dropout(0.5))\n",
    "emotion_model.add(Dense(7, activation='softmax'))\n",
    "\n",
    "cv2.ocl.setUseOpenCL(False)\n",
    "\n",
    "emotion_model.compile(loss='categorical_crossentropy', optimizer = tf.keras.optimizers.legacy.Adam(learning_rate=0.001, decay=1e-6)\n",
    ", metrics=['accuracy'])\n",
    "#decay"
   ]
  },
  {
   "cell_type": "code",
   "execution_count": 38,
   "id": "f0990f81",
   "metadata": {},
   "outputs": [
    {
     "name": "stderr",
     "output_type": "stream",
     "text": [
      "C:\\Users\\91756\\AppData\\Local\\Temp\\ipykernel_35336\\2106188057.py:2: UserWarning: `Model.fit_generator` is deprecated and will be removed in a future version. Please use `Model.fit`, which supports generators.\n",
      "  emotion_model_info = emotion_model.fit_generator(\n"
     ]
    },
    {
     "name": "stdout",
     "output_type": "stream",
     "text": [
      "Epoch 1/50\n",
      "448/448 [==============================] - 278s 618ms/step - loss: 1.6904 - accuracy: 0.3197 - val_loss: 1.4921 - val_accuracy: 0.4290\n",
      "Epoch 2/50\n",
      "448/448 [==============================] - 144s 321ms/step - loss: 1.4092 - accuracy: 0.4571 - val_loss: 1.2979 - val_accuracy: 0.4992\n",
      "Epoch 3/50\n",
      "448/448 [==============================] - 141s 315ms/step - loss: 1.2758 - accuracy: 0.5124 - val_loss: 1.2229 - val_accuracy: 0.5393\n",
      "Epoch 4/50\n",
      "448/448 [==============================] - 138s 307ms/step - loss: 1.2107 - accuracy: 0.5371 - val_loss: 1.1463 - val_accuracy: 0.5665\n",
      "Epoch 5/50\n",
      "448/448 [==============================] - 142s 317ms/step - loss: 1.1447 - accuracy: 0.5629 - val_loss: 1.1301 - val_accuracy: 0.5660\n",
      "Epoch 6/50\n",
      "448/448 [==============================] - 4890s 11s/step - loss: 1.0975 - accuracy: 0.5842 - val_loss: 1.1112 - val_accuracy: 0.5780\n",
      "Epoch 7/50\n",
      "448/448 [==============================] - 150s 335ms/step - loss: 1.0641 - accuracy: 0.5975 - val_loss: 1.0841 - val_accuracy: 0.5886\n",
      "Epoch 8/50\n",
      "448/448 [==============================] - 129s 289ms/step - loss: 1.0260 - accuracy: 0.6143 - val_loss: 1.0723 - val_accuracy: 0.5915\n",
      "Epoch 9/50\n",
      "448/448 [==============================] - 130s 291ms/step - loss: 0.9944 - accuracy: 0.6231 - val_loss: 1.0792 - val_accuracy: 0.5964\n",
      "Epoch 10/50\n",
      "448/448 [==============================] - 130s 289ms/step - loss: 0.9512 - accuracy: 0.6440 - val_loss: 1.0580 - val_accuracy: 0.6034\n",
      "Epoch 11/50\n",
      "448/448 [==============================] - 131s 292ms/step - loss: 0.9175 - accuracy: 0.6534 - val_loss: 1.0635 - val_accuracy: 0.6076\n",
      "Epoch 12/50\n",
      "448/448 [==============================] - 136s 303ms/step - loss: 0.8826 - accuracy: 0.6698 - val_loss: 1.0549 - val_accuracy: 0.6092\n",
      "Epoch 13/50\n",
      "448/448 [==============================] - 151s 336ms/step - loss: 0.8489 - accuracy: 0.6816 - val_loss: 1.0477 - val_accuracy: 0.6133\n",
      "Epoch 14/50\n",
      "448/448 [==============================] - 7988s 18s/step - loss: 0.8250 - accuracy: 0.6910 - val_loss: 1.0748 - val_accuracy: 0.6092\n",
      "Epoch 15/50\n",
      "448/448 [==============================] - 129s 288ms/step - loss: 0.7916 - accuracy: 0.7042 - val_loss: 1.0491 - val_accuracy: 0.6151\n",
      "Epoch 16/50\n",
      "448/448 [==============================] - 130s 290ms/step - loss: 0.7637 - accuracy: 0.7133 - val_loss: 1.0619 - val_accuracy: 0.6084\n",
      "Epoch 17/50\n",
      "448/448 [==============================] - 131s 292ms/step - loss: 0.7368 - accuracy: 0.7251 - val_loss: 1.0758 - val_accuracy: 0.6219\n",
      "Epoch 18/50\n",
      "448/448 [==============================] - 151s 338ms/step - loss: 0.7154 - accuracy: 0.7327 - val_loss: 1.0647 - val_accuracy: 0.6169\n",
      "Epoch 19/50\n",
      "448/448 [==============================] - 151s 337ms/step - loss: 0.6857 - accuracy: 0.7444 - val_loss: 1.0864 - val_accuracy: 0.6177\n",
      "Epoch 20/50\n",
      "448/448 [==============================] - 150s 334ms/step - loss: 0.6613 - accuracy: 0.7535 - val_loss: 1.0826 - val_accuracy: 0.6154\n",
      "Epoch 21/50\n",
      "448/448 [==============================] - 148s 330ms/step - loss: 0.6464 - accuracy: 0.7595 - val_loss: 1.0818 - val_accuracy: 0.6278\n",
      "Epoch 22/50\n",
      "448/448 [==============================] - 150s 335ms/step - loss: 0.6299 - accuracy: 0.7676 - val_loss: 1.0886 - val_accuracy: 0.6256\n",
      "Epoch 23/50\n",
      "448/448 [==============================] - 343s 766ms/step - loss: 0.6034 - accuracy: 0.7773 - val_loss: 1.1413 - val_accuracy: 0.6175\n",
      "Epoch 24/50\n",
      "448/448 [==============================] - 148s 331ms/step - loss: 0.5894 - accuracy: 0.7850 - val_loss: 1.1263 - val_accuracy: 0.6233\n",
      "Epoch 25/50\n",
      "448/448 [==============================] - 148s 331ms/step - loss: 0.5688 - accuracy: 0.7889 - val_loss: 1.1109 - val_accuracy: 0.6169\n",
      "Epoch 26/50\n",
      "448/448 [==============================] - 147s 329ms/step - loss: 0.5720 - accuracy: 0.7901 - val_loss: 1.1339 - val_accuracy: 0.6254\n",
      "Epoch 27/50\n",
      "448/448 [==============================] - 607s 1s/step - loss: 0.5422 - accuracy: 0.7991 - val_loss: 1.1422 - val_accuracy: 0.6277\n",
      "Epoch 28/50\n",
      "448/448 [==============================] - 144s 321ms/step - loss: 0.5275 - accuracy: 0.8066 - val_loss: 1.1895 - val_accuracy: 0.6233\n",
      "Epoch 29/50\n",
      "448/448 [==============================] - 129s 289ms/step - loss: 0.5186 - accuracy: 0.8097 - val_loss: 1.1463 - val_accuracy: 0.6260\n",
      "Epoch 30/50\n",
      "448/448 [==============================] - 131s 292ms/step - loss: 0.5037 - accuracy: 0.8156 - val_loss: 1.1658 - val_accuracy: 0.6226\n",
      "Epoch 31/50\n",
      "448/448 [==============================] - 134s 298ms/step - loss: 0.5000 - accuracy: 0.8177 - val_loss: 1.1929 - val_accuracy: 0.6279\n",
      "Epoch 32/50\n",
      "448/448 [==============================] - 131s 293ms/step - loss: 0.4794 - accuracy: 0.8239 - val_loss: 1.1698 - val_accuracy: 0.6306\n",
      "Epoch 33/50\n",
      "448/448 [==============================] - 131s 293ms/step - loss: 0.4780 - accuracy: 0.8226 - val_loss: 1.1955 - val_accuracy: 0.6243\n",
      "Epoch 34/50\n",
      "448/448 [==============================] - 145s 324ms/step - loss: 0.4656 - accuracy: 0.8286 - val_loss: 1.1863 - val_accuracy: 0.6215\n",
      "Epoch 35/50\n",
      "448/448 [==============================] - 154s 344ms/step - loss: 0.4556 - accuracy: 0.8340 - val_loss: 1.1887 - val_accuracy: 0.6242\n",
      "Epoch 36/50\n",
      "448/448 [==============================] - 149s 333ms/step - loss: 0.4549 - accuracy: 0.8333 - val_loss: 1.2260 - val_accuracy: 0.6289\n",
      "Epoch 37/50\n",
      "448/448 [==============================] - 149s 332ms/step - loss: 0.4457 - accuracy: 0.8374 - val_loss: 1.1974 - val_accuracy: 0.6318\n",
      "Epoch 38/50\n",
      "448/448 [==============================] - 149s 332ms/step - loss: 0.4386 - accuracy: 0.8434 - val_loss: 1.2265 - val_accuracy: 0.6197\n",
      "Epoch 39/50\n",
      "448/448 [==============================] - 149s 333ms/step - loss: 0.4332 - accuracy: 0.8425 - val_loss: 1.2360 - val_accuracy: 0.6270\n",
      "Epoch 40/50\n",
      "448/448 [==============================] - 149s 333ms/step - loss: 0.4170 - accuracy: 0.8500 - val_loss: 1.2386 - val_accuracy: 0.6193\n",
      "Epoch 41/50\n",
      "448/448 [==============================] - 149s 333ms/step - loss: 0.4097 - accuracy: 0.8530 - val_loss: 1.3065 - val_accuracy: 0.6317\n",
      "Epoch 42/50\n",
      "448/448 [==============================] - 149s 332ms/step - loss: 0.4089 - accuracy: 0.8516 - val_loss: 1.2507 - val_accuracy: 0.6290\n",
      "Epoch 43/50\n",
      "448/448 [==============================] - 150s 334ms/step - loss: 0.4083 - accuracy: 0.8552 - val_loss: 1.2502 - val_accuracy: 0.6208\n",
      "Epoch 44/50\n",
      "448/448 [==============================] - 149s 331ms/step - loss: 0.4000 - accuracy: 0.8545 - val_loss: 1.2662 - val_accuracy: 0.6194\n",
      "Epoch 45/50\n",
      "448/448 [==============================] - 150s 334ms/step - loss: 0.3898 - accuracy: 0.8586 - val_loss: 1.2572 - val_accuracy: 0.6239\n",
      "Epoch 46/50\n",
      "448/448 [==============================] - 149s 332ms/step - loss: 0.3941 - accuracy: 0.8589 - val_loss: 1.2757 - val_accuracy: 0.6267\n",
      "Epoch 47/50\n",
      "448/448 [==============================] - 151s 336ms/step - loss: 0.3836 - accuracy: 0.8624 - val_loss: 1.2817 - val_accuracy: 0.6240\n",
      "Epoch 48/50\n",
      "448/448 [==============================] - 149s 332ms/step - loss: 0.3711 - accuracy: 0.8677 - val_loss: 1.2560 - val_accuracy: 0.6226\n",
      "Epoch 49/50\n",
      "448/448 [==============================] - 149s 333ms/step - loss: 0.3701 - accuracy: 0.8696 - val_loss: 1.2726 - val_accuracy: 0.6270\n",
      "Epoch 50/50\n",
      "448/448 [==============================] - 148s 330ms/step - loss: 0.3688 - accuracy: 0.8689 - val_loss: 1.2911 - val_accuracy: 0.6285\n"
     ]
    }
   ],
   "source": [
    "\n",
    "# Train the neural network/model\n",
    "emotion_model_info = emotion_model.fit_generator(\n",
    "        train_generator,\n",
    "        steps_per_epoch=28709 // 64,\n",
    "        epochs=50,\n",
    "        validation_data=validation_generator,\n",
    "        validation_steps=7178 // 64)\n"
   ]
  },
  {
   "cell_type": "code",
   "execution_count": 39,
   "id": "24f9e64a",
   "metadata": {},
   "outputs": [],
   "source": [
    "\n",
    "# save model structure in jason file\n",
    "model_json = emotion_model.to_json()\n",
    "with open(\"emotion_model.json\", \"w\") as json_file:\n",
    "    json_file.write(model_json)\n"
   ]
  },
  {
   "cell_type": "code",
   "execution_count": 40,
   "id": "f7f2ed0f",
   "metadata": {},
   "outputs": [],
   "source": [
    "\n",
    "# save trained model weight in .h5 file\n",
    "emotion_model.save_weights('emotion_model.h5')\n"
   ]
  },
  {
   "cell_type": "code",
   "execution_count": null,
   "id": "d598c80d",
   "metadata": {},
   "outputs": [],
   "source": []
  }
 ],
 "metadata": {
  "kernelspec": {
   "display_name": "Python 3 (ipykernel)",
   "language": "python",
   "name": "python3"
  },
  "language_info": {
   "codemirror_mode": {
    "name": "ipython",
    "version": 3
   },
   "file_extension": ".py",
   "mimetype": "text/x-python",
   "name": "python",
   "nbconvert_exporter": "python",
   "pygments_lexer": "ipython3",
   "version": "3.9.13"
  }
 },
 "nbformat": 4,
 "nbformat_minor": 5
}
